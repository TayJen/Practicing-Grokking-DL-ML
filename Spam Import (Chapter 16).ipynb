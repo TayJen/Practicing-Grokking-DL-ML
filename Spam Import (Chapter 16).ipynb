{
 "cells": [
  {
   "cell_type": "code",
   "execution_count": null,
   "id": "c501aa1c",
   "metadata": {},
   "outputs": [],
   "source": [
    "import requests\n",
    "\n",
    "response = requests.get('https://cs.stanford.edu/people/karpathy/char-rnn/shakespear.txt')\n",
    "data = response.text\n",
    "\n",
    "with open('spam.txt', 'w') as f:\n",
    "    f.writelines(data)"
   ]
  }
 ],
 "metadata": {
  "kernelspec": {
   "display_name": "Python 3",
   "language": "python",
   "name": "python3"
  },
  "language_info": {
   "codemirror_mode": {
    "name": "ipython",
    "version": 3
   },
   "file_extension": ".py",
   "mimetype": "text/x-python",
   "name": "python",
   "nbconvert_exporter": "python",
   "pygments_lexer": "ipython3",
   "version": "3.9.5"
  }
 },
 "nbformat": 4,
 "nbformat_minor": 5
}
